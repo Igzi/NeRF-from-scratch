{
 "cells": [
  {
   "cell_type": "code",
   "execution_count": 1,
   "metadata": {},
   "outputs": [],
   "source": [
    "%load_ext autoreload\n",
    "%autoreload 2\n",
    "\n",
    "import yaml\n",
    "import torch\n",
    "import matplotlib.pyplot as plt"
   ]
  },
  {
   "cell_type": "code",
   "execution_count": 2,
   "metadata": {},
   "outputs": [],
   "source": [
    "config_file = './configs/lego.yaml'\n",
    "with open(config_file, 'r') as file:\n",
    "    config = yaml.safe_load(file)"
   ]
  },
  {
   "cell_type": "code",
   "execution_count": 3,
   "metadata": {},
   "outputs": [],
   "source": [
    "from utils.DataLoaderLego import DataLoaderLego\n",
    "\n",
    "data_loader = DataLoaderLego(config['data'])\n",
    "\n",
    "images, poses, focal = data_loader.getDataset('train')"
   ]
  },
  {
   "cell_type": "code",
   "execution_count": 8,
   "metadata": {},
   "outputs": [],
   "source": [
    "device = 'cpu'\n",
    "if torch.cuda.is_available():\n",
    "    device = torch.cuda.current_device()\n",
    "device = 'cpu'"
   ]
  },
  {
   "cell_type": "code",
   "execution_count": 9,
   "metadata": {},
   "outputs": [],
   "source": [
    "from utils.Camera import Camera\n",
    "\n",
    "cameras = []\n",
    "H, W = images[0].shape[:2]\n",
    "\n",
    "for i in range(images.shape[0]):\n",
    "    cameras.append(Camera(H, W, poses[i], focal, device))"
   ]
  },
  {
   "cell_type": "code",
   "execution_count": 10,
   "metadata": {},
   "outputs": [],
   "source": [
    "from utils.Renderer import Renderer\n",
    "\n",
    "renderer = Renderer(config['renderer'])"
   ]
  },
  {
   "cell_type": "code",
   "execution_count": 12,
   "metadata": {},
   "outputs": [
    {
     "data": {
      "text/plain": [
       "(tensor([[[-0.0499,  3.8346,  1.2085,  1.5318, -1.2300],\n",
       "          [-0.0338,  3.7891,  1.2104,  1.5318, -1.2300],\n",
       "          [-0.0443,  3.8186,  1.2092,  1.5318, -1.2300],\n",
       "          ...,\n",
       "          [-0.0451,  3.8210,  1.2091,  1.5318, -1.2300],\n",
       "          [-0.0493,  3.8327,  1.2086,  1.5318, -1.2300],\n",
       "          [-0.0212,  3.7537,  1.2119,  1.5318, -1.2300]],\n",
       " \n",
       "         [[-0.0424,  3.8126,  1.2094,  1.5317, -1.2361],\n",
       "          [-0.0237,  3.7590,  1.2117,  1.5317, -1.2361],\n",
       "          [-0.0342,  3.7891,  1.2104,  1.5317, -1.2361],\n",
       "          ...,\n",
       "          [-0.0501,  3.8349,  1.2085,  1.5317, -1.2361],\n",
       "          [-0.0377,  3.7992,  1.2100,  1.5317, -1.2361],\n",
       "          [-0.0380,  3.8002,  1.2100,  1.5317, -1.2361]],\n",
       " \n",
       "         [[-0.0312,  3.7791,  1.2108,  1.5316, -1.2422],\n",
       "          [-0.0258,  3.7633,  1.2115,  1.5316, -1.2422],\n",
       "          [-0.0439,  3.8166,  1.2093,  1.5316, -1.2422],\n",
       "          ...,\n",
       "          [-0.0380,  3.7992,  1.2100,  1.5316, -1.2422],\n",
       "          [-0.0536,  3.8448,  1.2081,  1.5316, -1.2422],\n",
       "          [-0.0301,  3.7759,  1.2110,  1.5316, -1.2422]],\n",
       " \n",
       "         ...,\n",
       " \n",
       "         [[-0.0633,  3.8206,  1.1895,  2.1793, -1.9364],\n",
       "          [-0.0837,  3.7674,  1.1498,  2.1793, -1.9364],\n",
       "          [-0.0599,  3.8297,  1.1963,  2.1793, -1.9364],\n",
       "          ...,\n",
       "          [-0.0563,  3.8389,  1.2032,  2.1793, -1.9364],\n",
       "          [-0.0620,  3.8239,  1.1920,  2.1793, -1.9364],\n",
       "          [-0.0606,  3.8276,  1.1947,  2.1793, -1.9364]],\n",
       " \n",
       "         [[-0.0615,  3.8258,  1.1934,  2.1779, -1.9437],\n",
       "          [-0.0857,  3.7639,  1.1472,  2.1779, -1.9437],\n",
       "          [-0.0681,  3.8089,  1.1808,  2.1779, -1.9437],\n",
       "          ...,\n",
       "          [-0.0574,  3.8363,  1.2012,  2.1779, -1.9437],\n",
       "          [-0.0654,  3.8158,  1.1860,  2.1779, -1.9437],\n",
       "          [-0.0625,  3.8233,  1.1916,  2.1779, -1.9437]],\n",
       " \n",
       "         [[-0.0793,  3.7817,  1.1605,  2.1765, -1.9509],\n",
       "          [-0.0640,  3.8199,  1.1890,  2.1765, -1.9509],\n",
       "          [-0.0752,  3.7919,  1.1681,  2.1765, -1.9509],\n",
       "          ...,\n",
       "          [-0.0539,  3.8453,  1.2079,  2.1765, -1.9509],\n",
       "          [-0.0673,  3.8118,  1.1829,  2.1765, -1.9509],\n",
       "          [-0.0681,  3.8097,  1.1814,  2.1765, -1.9509]]]),\n",
       " tensor([[0.0115, 0.0599, 0.0286,  ..., 0.0259, 0.0136, 0.0975],\n",
       "         [0.0348, 0.0916, 0.0598,  ..., 0.0112, 0.0490, 0.0480],\n",
       "         [0.0702, 0.0869, 0.0305,  ..., 0.0489, 0.0007, 0.0735],\n",
       "         ...,\n",
       "         [0.0325, 0.1019, 0.0206,  ..., 0.0085, 0.0281, 0.0233],\n",
       "         [0.0257, 0.1067, 0.0478,  ..., 0.0120, 0.0387, 0.0289],\n",
       "         [0.0835, 0.0335, 0.0702,  ..., 0.0003, 0.0441, 0.0469]]))"
      ]
     },
     "execution_count": 12,
     "metadata": {},
     "output_type": "execute_result"
    }
   ],
   "source": [
    "ray_o, ray_dir = cameras[0].getRays()\n",
    "\n",
    "_,_, z_samples = renderer.getSparsePoints(ray_o, ray_dir, True)\n",
    "z_samples = z_samples.reshape((-1,64))\n",
    "renderer.getFinePoints(ray_o,ray_dir,z_samples,torch.ones(z_samples.shape))"
   ]
  },
  {
   "cell_type": "code",
   "execution_count": 17,
   "metadata": {},
   "outputs": [
    {
     "name": "stdout",
     "output_type": "stream",
     "text": [
      "9\n",
      "9\n"
     ]
    },
    {
     "ename": "KeyError",
     "evalue": "'gamma'",
     "output_type": "error",
     "traceback": [
      "\u001b[0;31m---------------------------------------------------------------------------\u001b[0m",
      "\u001b[0;31mKeyError\u001b[0m                                  Traceback (most recent call last)",
      "Cell \u001b[0;32mIn[17], line 42\u001b[0m\n\u001b[1;32m     40\u001b[0m model_fine \u001b[39m=\u001b[39m Nerf(config[\u001b[39m'\u001b[39m\u001b[39mmodel\u001b[39m\u001b[39m'\u001b[39m][\u001b[39m'\u001b[39m\u001b[39mL_xyz\u001b[39m\u001b[39m'\u001b[39m],config[\u001b[39m'\u001b[39m\u001b[39mmodel\u001b[39m\u001b[39m'\u001b[39m][\u001b[39m'\u001b[39m\u001b[39mL_dir\u001b[39m\u001b[39m'\u001b[39m])\n\u001b[1;32m     41\u001b[0m model \u001b[39m=\u001b[39m (model_sparse, model_fine)\n\u001b[0;32m---> 42\u001b[0m trainer \u001b[39m=\u001b[39m TrainerNerf(model, device, images, cameras, renderer, config[\u001b[39m'\u001b[39;49m\u001b[39mtrainer\u001b[39;49m\u001b[39m'\u001b[39;49m])\n\u001b[1;32m     43\u001b[0m trainer\u001b[39m.\u001b[39mtrain(test_img[\u001b[39mNone\u001b[39;00m,\u001b[39m.\u001b[39m\u001b[39m.\u001b[39m\u001b[39m.\u001b[39m], test_pose[\u001b[39mNone\u001b[39;00m,\u001b[39m.\u001b[39m\u001b[39m.\u001b[39m\u001b[39m.\u001b[39m], focal)\n",
      "File \u001b[0;32m~/projects/nerf/PSIML2023/utils/TrainerNerf.py:14\u001b[0m, in \u001b[0;36mTrainerNerf.__init__\u001b[0;34m(self, model, device, images, cameras, renderer, config)\u001b[0m\n\u001b[1;32m     12\u001b[0m \u001b[39mdef\u001b[39;00m \u001b[39m__init__\u001b[39m(\u001b[39mself\u001b[39m, model, device, images, cameras, renderer, config):\n\u001b[1;32m     13\u001b[0m     \u001b[39msuper\u001b[39m()\u001b[39m.\u001b[39m\u001b[39m__init__\u001b[39m(model, device, images, cameras, renderer, config)\n\u001b[0;32m---> 14\u001b[0m     \u001b[39mself\u001b[39m\u001b[39m.\u001b[39mgamma \u001b[39m=\u001b[39m config[\u001b[39m'\u001b[39;49m\u001b[39mgamma\u001b[39;49m\u001b[39m'\u001b[39;49m]\n",
      "\u001b[0;31mKeyError\u001b[0m: 'gamma'"
     ]
    }
   ],
   "source": [
    "from models.Nerf import Nerf\n",
    "from utils.TrainerNerf import TrainerNerf\n",
    "import imageio.v3 as iio\n",
    "\n",
    "test_img = \"nerf_synthetic/lego/val/r_0.png\"\n",
    "test_img = iio.imread(test_img)[:,:,:3]\n",
    "test_img = torch.tensor(test_img)\n",
    "test_img = torch.nn.functional.interpolate(test_img[None,...].permute(\n",
    "            0, 3, 1, 2), (100, 100), mode='bilinear', align_corners=False).permute(0, 2, 3, 1)[0]\n",
    "test_img = test_img/255\n",
    "\n",
    "test_pose = torch.tensor([\n",
    "                [\n",
    "                    -0.963964581489563,\n",
    "                    -0.2611401677131653,\n",
    "                    0.0507759265601635,\n",
    "                    0.2046843022108078\n",
    "                ],\n",
    "                [\n",
    "                    0.26603081822395325,\n",
    "                    -0.9462433457374573,\n",
    "                    0.18398693203926086,\n",
    "                    0.7416750192642212\n",
    "                ],\n",
    "                [\n",
    "                    7.450580596923828e-09,\n",
    "                    0.1908649355173111,\n",
    "                    0.9816163182258606,\n",
    "                    3.957021951675415\n",
    "                ],\n",
    "                [\n",
    "                    0.0,\n",
    "                    0.0,\n",
    "                    0.0,\n",
    "                    1.0\n",
    "                ]\n",
    "            ])\n",
    "\n",
    "model_sparse = Nerf(config['model']['L_xyz'],config['model']['L_dir'])\n",
    "model_fine = Nerf(config['model']['L_xyz'],config['model']['L_dir'])\n",
    "model = (model_sparse, model_fine)\n",
    "trainer = TrainerNerf(model, device, images, cameras, renderer, config['trainer'])\n",
    "trainer.train(test_img[None,...], test_pose[None,...], focal)"
   ]
  },
  {
   "cell_type": "code",
   "execution_count": null,
   "metadata": {},
   "outputs": [],
   "source": []
  }
 ],
 "metadata": {
  "kernelspec": {
   "display_name": "Python 3",
   "language": "python",
   "name": "python3"
  },
  "language_info": {
   "codemirror_mode": {
    "name": "ipython",
    "version": 3
   },
   "file_extension": ".py",
   "mimetype": "text/x-python",
   "name": "python",
   "nbconvert_exporter": "python",
   "pygments_lexer": "ipython3",
   "version": "3.11.3"
  },
  "orig_nbformat": 4
 },
 "nbformat": 4,
 "nbformat_minor": 2
}
