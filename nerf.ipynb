{
 "cells": [
  {
   "cell_type": "code",
   "execution_count": 1,
   "metadata": {},
   "outputs": [],
   "source": [
    "%load_ext autoreload\n",
    "%autoreload 2\n",
    "\n",
    "import yaml\n",
    "import torch\n",
    "import matplotlib.pyplot as plt"
   ]
  },
  {
   "cell_type": "code",
   "execution_count": 2,
   "metadata": {},
   "outputs": [],
   "source": [
    "config_file = './configs/lego.yaml'\n",
    "with open(config_file, 'r') as file:\n",
    "    config = yaml.safe_load(file)"
   ]
  },
  {
   "cell_type": "code",
   "execution_count": 3,
   "metadata": {},
   "outputs": [],
   "source": [
    "from utils.DataLoaderLego import DataLoaderLego\n",
    "\n",
    "data_loader = DataLoaderLego(config['data'])\n",
    "\n",
    "images, poses, focal = data_loader.getDataset('train')"
   ]
  },
  {
   "cell_type": "code",
   "execution_count": 4,
   "metadata": {},
   "outputs": [],
   "source": [
    "device = 'cpu'\n",
    "if torch.cuda.is_available():\n",
    "    device = torch.cuda.current_device()"
   ]
  },
  {
   "cell_type": "code",
   "execution_count": 5,
   "metadata": {},
   "outputs": [],
   "source": [
    "from utils.Camera import Camera\n",
    "\n",
    "cameras = []\n",
    "H, W = images[0].shape[:2]\n",
    "\n",
    "for i in range(images.shape[0]):\n",
    "    cameras.append(Camera(H, W, poses[i], focal, device))"
   ]
  },
  {
   "cell_type": "code",
   "execution_count": 19,
   "metadata": {},
   "outputs": [],
   "source": [
    "from utils.Renderer import Renderer\n",
    "\n",
    "renderer = Renderer(config['renderer'])"
   ]
  },
  {
   "cell_type": "code",
   "execution_count": 23,
   "metadata": {},
   "outputs": [
    {
     "ename": "RuntimeError",
     "evalue": "The size of tensor a (65) must match the size of tensor b (128) at non-singleton dimension 2",
     "output_type": "error",
     "traceback": [
      "\u001b[1;31m---------------------------------------------------------------------------\u001b[0m",
      "\u001b[1;31mRuntimeError\u001b[0m                              Traceback (most recent call last)",
      "Cell \u001b[1;32mIn[23], line 5\u001b[0m\n\u001b[0;32m      3\u001b[0m _,_, z_samples \u001b[39m=\u001b[39m renderer\u001b[39m.\u001b[39mgetSparsePoints(ray_o, ray_dir, \u001b[39mTrue\u001b[39;00m)\n\u001b[0;32m      4\u001b[0m z_samples \u001b[39m=\u001b[39m z_samples\u001b[39m.\u001b[39mreshape((\u001b[39m-\u001b[39m\u001b[39m1\u001b[39m,\u001b[39m64\u001b[39m))\n\u001b[1;32m----> 5\u001b[0m renderer\u001b[39m.\u001b[39;49mgetFinePoints(ray_o,ray_dir,z_samples,torch\u001b[39m.\u001b[39;49mones(z_samples\u001b[39m.\u001b[39;49mshape))\u001b[39m.\u001b[39mfloat()\n",
      "File \u001b[1;32mc:\\Users\\Igor\\Downloads\\NeRF\\PSIML2023\\utils\\Renderer.py:67\u001b[0m, in \u001b[0;36mRenderer.getFinePoints\u001b[1;34m(self, ray_origins, ray_dirs, sparse_samples, weights)\u001b[0m\n\u001b[0;32m     63\u001b[0m sparse_samples \u001b[39m=\u001b[39m torch\u001b[39m.\u001b[39mcat([sparse_samples, \u001b[39mself\u001b[39m\u001b[39m.\u001b[39mfar\u001b[39m*\u001b[39mtorch\u001b[39m.\u001b[39mones((sparse_samples\u001b[39m.\u001b[39mshape[\u001b[39m0\u001b[39m], \u001b[39m1\u001b[39m))], dim \u001b[39m=\u001b[39m \u001b[39m-\u001b[39m\u001b[39m1\u001b[39m)\n\u001b[0;32m     65\u001b[0m sample_idx \u001b[39m=\u001b[39m torch\u001b[39m.\u001b[39mmultinomial(weights, num_samples \u001b[39m=\u001b[39m \u001b[39mself\u001b[39m\u001b[39m.\u001b[39mNf, replacement\u001b[39m=\u001b[39m\u001b[39mTrue\u001b[39;00m)\n\u001b[1;32m---> 67\u001b[0m samples \u001b[39m=\u001b[39m (sparse_samples[sample_idx\u001b[39m+\u001b[39;49m\u001b[39m1\u001b[39;49m]\u001b[39m-\u001b[39;49msparse_samples[sample_idx])\u001b[39m*\u001b[39;49mtorch\u001b[39m.\u001b[39;49mrand((sparse_samples\u001b[39m.\u001b[39;49mshape[\u001b[39m0\u001b[39;49m],\u001b[39mself\u001b[39;49m\u001b[39m.\u001b[39;49mNf))\n",
      "\u001b[1;31mRuntimeError\u001b[0m: The size of tensor a (65) must match the size of tensor b (128) at non-singleton dimension 2"
     ]
    }
   ],
   "source": [
    "ray_o, ray_dir = cameras[0].getRays()\n",
    "\n",
    "_,_, z_samples = renderer.getSparsePoints(ray_o, ray_dir, True)\n",
    "z_samples = z_samples.reshape((-1,64))\n",
    "renderer.getFinePoints(ray_o,ray_dir,z_samples,torch.ones(z_samples.shape)).float()"
   ]
  },
  {
   "cell_type": "code",
   "execution_count": null,
   "metadata": {},
   "outputs": [],
   "source": []
  }
 ],
 "metadata": {
  "kernelspec": {
   "display_name": "Python 3",
   "language": "python",
   "name": "python3"
  },
  "language_info": {
   "codemirror_mode": {
    "name": "ipython",
    "version": 3
   },
   "file_extension": ".py",
   "mimetype": "text/x-python",
   "name": "python",
   "nbconvert_exporter": "python",
   "pygments_lexer": "ipython3",
   "version": "3.10.11"
  },
  "orig_nbformat": 4
 },
 "nbformat": 4,
 "nbformat_minor": 2
}
