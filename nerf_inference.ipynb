{
 "cells": [
  {
   "cell_type": "code",
   "execution_count": 15,
   "metadata": {},
   "outputs": [
    {
     "name": "stdout",
     "output_type": "stream",
     "text": [
      "The autoreload extension is already loaded. To reload it, use:\n",
      "  %reload_ext autoreload\n"
     ]
    }
   ],
   "source": [
    "%load_ext autoreload\n",
    "%autoreload 2\n",
    "\n",
    "import torch\n",
    "import matplotlib.pyplot as plt\n",
    "import numpy as np\n",
    "import yaml\n",
    "import imageio.v3 as iio\n"
   ]
  },
  {
   "cell_type": "code",
   "execution_count": 7,
   "metadata": {},
   "outputs": [],
   "source": [
    "config_file = './configs/lego.yaml'\n",
    "with open(config_file, 'r') as file:\n",
    "    config = yaml.safe_load(file)"
   ]
  },
  {
   "cell_type": "code",
   "execution_count": 33,
   "metadata": {},
   "outputs": [],
   "source": [
    "from utils.Renderer import Renderer\n",
    "\n",
    "renderer = Renderer(config['renderer'])"
   ]
  },
  {
   "cell_type": "code",
   "execution_count": 44,
   "metadata": {},
   "outputs": [
    {
     "name": "stdout",
     "output_type": "stream",
     "text": [
      "cpu\n",
      "9\n",
      "9\n",
      "epoch\n",
      "model_fine_state_dict\n",
      "model_sparse_state_dict\n",
      "optimizer_state_dict\n",
      "train_loss_history\n",
      "90\n"
     ]
    }
   ],
   "source": [
    "from models.Nerf import Nerf\n",
    "from utils.Inference import Inference\n",
    "import yaml\n",
    "# device =  'cuda' if torch.cuda.is_available() else 'cpu'\n",
    "device = 'cpu'\n",
    "print(device)\n",
    "model_sparse = Nerf(config['model']['L_xyz'],config['model']['L_dir'])\n",
    "model_sparse.to(device)\n",
    "model_fine = Nerf(config['model']['L_xyz'],config['model']['L_dir'])\n",
    "model_fine.to(device)\n",
    "models = (model_sparse, model_fine)\n",
    "inferece = Inference(models=models, \n",
    "                    checkpoint_path=\"/home/drakula/projects/nerf/PSIML2023/tinynerf_lego_pt3d28072023234920.pt\", \n",
    "                    device=device, renderer=renderer)\n"
   ]
  },
  {
   "cell_type": "code",
   "execution_count": 55,
   "metadata": {},
   "outputs": [
    {
     "name": "stdout",
     "output_type": "stream",
     "text": [
      "800 800\n"
     ]
    }
   ],
   "source": [
    "from utils.Camera import Camera\n",
    "test_img = \"nerf_synthetic/lego/val/r_0.png\"\n",
    "test_img = iio.imread(test_img)[:,:,:3]\n",
    "test_img = torch.tensor(test_img)\n",
    "# test_img = torch.nn.functional.interpolate(test_img[None,...].permute(\n",
    "#             0, 3, 1, 2), (100, 100), mode='bilinear', align_corners=False).permute(0, 2, 3, 1)[0]\n",
    "test_img = test_img/255\n",
    "# get hight and width of image\n",
    "H, W = test_img.shape[:2]\n",
    "print(H, W)\n",
    "focal = .5 * W / np.tan(.5 * 0.6911112070083618)\n",
    "test_camera = Camera(test_img.shape[0], test_img.shape[1], test_pose, focal)\n",
    "test_pose = torch.tensor([\n",
    "                [\n",
    "                    -0.963964581489563,\n",
    "                    -0.2611401677131653,\n",
    "                    0.0507759265601635,\n",
    "                    0.2046843022108078\n",
    "                ],\n",
    "                [\n",
    "                    0.26603081822395325,\n",
    "                    -0.9462433457374573,\n",
    "                    0.18398693203926086,\n",
    "                    0.7416750192642212\n",
    "                ],\n",
    "                [\n",
    "                    7.450580596923828e-09,\n",
    "                    0.1908649355173111,\n",
    "                    0.9816163182258606,\n",
    "                    3.957021951675415\n",
    "                ],\n",
    "                [\n",
    "                    0.0,\n",
    "                    0.0,\n",
    "                    0.0,\n",
    "                    1.0\n",
    "                ]\n",
    "            ])"
   ]
  },
  {
   "cell_type": "code",
   "execution_count": 56,
   "metadata": {},
   "outputs": [
    {
     "name": "stdout",
     "output_type": "stream",
     "text": [
      "torch.Size([800, 800, 3]) torch.Size([800, 800, 3])\n",
      "5.005278587341309\n"
     ]
    },
    {
     "ename": "",
     "evalue": "",
     "output_type": "error",
     "traceback": [
      "\u001b[1;31mCannot execute code, session has been disposed. Please try restarting the Kernel."
     ]
    },
    {
     "ename": "",
     "evalue": "",
     "output_type": "error",
     "traceback": [
      "\u001b[1;31mThe Kernel crashed while executing code in the the current cell or a previous cell. Please review the code in the cell(s) to identify a possible cause of the failure. Click <a href='https://aka.ms/vscodeJupyterKernelCrash'>here</a> for more info. View Jupyter <a href='command:jupyter.viewOutput'>log</a> for further details."
     ]
    }
   ],
   "source": [
    "inferece.inference([test_camera], [test_img], plot=True)"
   ]
  },
  {
   "cell_type": "code",
   "execution_count": null,
   "metadata": {},
   "outputs": [],
   "source": []
  }
 ],
 "metadata": {
  "kernelspec": {
   "display_name": "Python 3",
   "language": "python",
   "name": "python3"
  },
  "language_info": {
   "codemirror_mode": {
    "name": "ipython",
    "version": 3
   },
   "file_extension": ".py",
   "mimetype": "text/x-python",
   "name": "python",
   "nbconvert_exporter": "python",
   "pygments_lexer": "ipython3",
   "version": "3.11.3"
  },
  "orig_nbformat": 4
 },
 "nbformat": 4,
 "nbformat_minor": 2
}
