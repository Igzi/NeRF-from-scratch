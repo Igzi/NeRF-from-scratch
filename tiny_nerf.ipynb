{
 "cells": [
  {
   "cell_type": "code",
   "execution_count": 4,
   "metadata": {},
   "outputs": [],
   "source": [
    "import yaml"
   ]
  },
  {
   "cell_type": "code",
   "execution_count": 5,
   "metadata": {},
   "outputs": [],
   "source": [
    "config_file = './configs/lego.yaml'\n",
    "with open(config_file, 'r') as file:\n",
    "    config = yaml.safe_load(file)"
   ]
  },
  {
   "cell_type": "code",
   "execution_count": 6,
   "metadata": {},
   "outputs": [
    {
     "name": "stdout",
     "output_type": "stream",
     "text": [
      "{'file_path': './train/r_0', 'rotation': 0.012566370614359171, 'transform_matrix': [[-0.9999021887779236, 0.004192245192825794, -0.013345719315111637, -0.05379832163453102], [-0.013988681137561798, -0.2996590733528137, 0.95394366979599, 3.845470428466797], [-4.656612873077393e-10, 0.9540371894836426, 0.29968830943107605, 1.2080823183059692], [0.0, 0.0, 0.0, 1.0]]}\n"
     ]
    },
    {
     "ename": "KeyError",
     "evalue": "''",
     "output_type": "error",
     "traceback": [
      "\u001b[1;31m---------------------------------------------------------------------------\u001b[0m",
      "\u001b[1;31mKeyError\u001b[0m                                  Traceback (most recent call last)",
      "Cell \u001b[1;32mIn[6], line 5\u001b[0m\n\u001b[0;32m      1\u001b[0m \u001b[39mfrom\u001b[39;00m \u001b[39mutils\u001b[39;00m\u001b[39m.\u001b[39;00m\u001b[39mDataLoader\u001b[39;00m \u001b[39mimport\u001b[39;00m DataLoader\n\u001b[0;32m      3\u001b[0m data_loader \u001b[39m=\u001b[39m DataLoader(config[\u001b[39m'\u001b[39m\u001b[39mdata\u001b[39m\u001b[39m'\u001b[39m])\n\u001b[1;32m----> 5\u001b[0m data_loader\u001b[39m.\u001b[39;49mgetDataset(\u001b[39m'\u001b[39;49m\u001b[39mtrain\u001b[39;49m\u001b[39m'\u001b[39;49m)\n",
      "File \u001b[1;32mc:\\Users\\Igor\\Downloads\\NeRF\\PSIML2023\\utils\\DataLoader.py:41\u001b[0m, in \u001b[0;36mDataLoader.getDataset\u001b[1;34m(self, type)\u001b[0m\n\u001b[0;32m     38\u001b[0m \u001b[39mif\u001b[39;00m(i\u001b[39m==\u001b[39m\u001b[39m1\u001b[39m):\n\u001b[0;32m     39\u001b[0m     \u001b[39mprint\u001b[39m(frame)\n\u001b[1;32m---> 41\u001b[0m np\u001b[39m.\u001b[39mconcatenate([poses, frame[\u001b[39m'\u001b[39;49m\u001b[39m'\u001b[39;49m]], axis\u001b[39m=\u001b[39m\u001b[39m0\u001b[39m) \n\u001b[0;32m     43\u001b[0m image_path \u001b[39m=\u001b[39m \u001b[39mself\u001b[39m\u001b[39m.\u001b[39mdataset_path \u001b[39m+\u001b[39m frame[\u001b[39m'\u001b[39m\u001b[39mfile_path\u001b[39m\u001b[39m'\u001b[39m]\n\u001b[0;32m     44\u001b[0m image \u001b[39m=\u001b[39m iio\u001b[39m.\u001b[39mimread(image_path)\n",
      "\u001b[1;31mKeyError\u001b[0m: ''"
     ]
    }
   ],
   "source": [
    "from utils.DataLoader import DataLoader\n",
    "\n",
    "data_loader = DataLoader(config['data'])\n",
    "\n",
    "data_loader.getDataset('train')"
   ]
  }
 ],
 "metadata": {
  "kernelspec": {
   "display_name": "Python 3",
   "language": "python",
   "name": "python3"
  },
  "language_info": {
   "codemirror_mode": {
    "name": "ipython",
    "version": 3
   },
   "file_extension": ".py",
   "mimetype": "text/x-python",
   "name": "python",
   "nbconvert_exporter": "python",
   "pygments_lexer": "ipython3",
   "version": "3.10.11"
  },
  "orig_nbformat": 4
 },
 "nbformat": 4,
 "nbformat_minor": 2
}
