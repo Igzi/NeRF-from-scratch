{
 "cells": [
  {
   "cell_type": "code",
   "execution_count": 6,
   "metadata": {},
   "outputs": [
    {
     "name": "stdout",
     "output_type": "stream",
     "text": [
      "The autoreload extension is already loaded. To reload it, use:\n",
      "  %reload_ext autoreload\n"
     ]
    }
   ],
   "source": [
    "%load_ext autoreload\n",
    "%autoreload 2\n",
    "\n",
    "import yaml\n",
    "import torch\n",
    "import matplotlib.pyplot as plt"
   ]
  },
  {
   "cell_type": "code",
   "execution_count": 7,
   "metadata": {},
   "outputs": [],
   "source": [
    "config_file = './configs/lego.yaml'\n",
    "with open(config_file, 'r') as file:\n",
    "    config = yaml.safe_load(file)"
   ]
  },
  {
   "cell_type": "code",
   "execution_count": 8,
   "metadata": {},
   "outputs": [],
   "source": [
    "from utils.DataLoaderLego import DataLoaderLego\n",
    "\n",
    "data_loader = DataLoaderLego(config['data'])\n",
    "\n",
    "images, poses, focal = data_loader.getDataset('train')"
   ]
  },
  {
   "cell_type": "code",
   "execution_count": 9,
   "metadata": {},
   "outputs": [],
   "source": [
    "device = 'cpu'\n",
    "if torch.cuda.is_available():\n",
    "    device = torch.cuda.current_device()"
   ]
  },
  {
   "cell_type": "code",
   "execution_count": 10,
   "metadata": {},
   "outputs": [],
   "source": [
    "from utils.Camera import Camera\n",
    "\n",
    "cameras = []\n",
    "H, W = images[0].shape[:2] # proBABLY SWAPED\n",
    "\n",
    "for i in range(images.shape[0]):\n",
    "    cameras.append(Camera(H, W, poses[i], focal, device))\n"
   ]
  },
  {
   "cell_type": "code",
   "execution_count": 11,
   "metadata": {},
   "outputs": [],
   "source": [
    "from utils.Renderer import Renderer\n",
    "\n",
    "renderer = Renderer(config['renderer'])"
   ]
  },
  {
   "cell_type": "code",
   "execution_count": 12,
   "metadata": {},
   "outputs": [
    {
     "name": "stdout",
     "output_type": "stream",
     "text": [
      "The autoreload extension is already loaded. To reload it, use:\n",
      "  %reload_ext autoreload\n"
     ]
    },
    {
     "ename": "NameError",
     "evalue": "name 'model' is not defined",
     "output_type": "error",
     "traceback": [
      "\u001b[1;31m---------------------------------------------------------------------------\u001b[0m",
      "\u001b[1;31mNameError\u001b[0m                                 Traceback (most recent call last)",
      "Cell \u001b[1;32mIn[12], line 44\u001b[0m\n\u001b[0;32m     14\u001b[0m test_pose \u001b[39m=\u001b[39m torch\u001b[39m.\u001b[39mtensor([\n\u001b[0;32m     15\u001b[0m                 [\n\u001b[0;32m     16\u001b[0m                     \u001b[39m-\u001b[39m\u001b[39m0.963964581489563\u001b[39m,\n\u001b[1;32m   (...)\u001b[0m\n\u001b[0;32m     38\u001b[0m                 ]\n\u001b[0;32m     39\u001b[0m             ])\n\u001b[0;32m     41\u001b[0m \u001b[39m#test_pose = test_pose.to('cuda')\u001b[39;00m\n\u001b[0;32m     42\u001b[0m \u001b[39m#test_img = test_img.to('cuda')\u001b[39;00m\n\u001b[1;32m---> 44\u001b[0m trainer \u001b[39m=\u001b[39m TrainerTinyNerf(model, device, images, cameras, renderer, config[\u001b[39m'\u001b[39m\u001b[39mtrainer\u001b[39m\u001b[39m'\u001b[39m])\n\u001b[0;32m     45\u001b[0m trainer\u001b[39m.\u001b[39mtrain(test_img[\u001b[39mNone\u001b[39;00m,\u001b[39m.\u001b[39m\u001b[39m.\u001b[39m\u001b[39m.\u001b[39m], test_pose[\u001b[39mNone\u001b[39;00m,\u001b[39m.\u001b[39m\u001b[39m.\u001b[39m\u001b[39m.\u001b[39m], focal)\n",
      "\u001b[1;31mNameError\u001b[0m: name 'model' is not defined"
     ]
    }
   ],
   "source": [
    "%load_ext autoreload\n",
    "%autoreload 2\n",
    "\n",
    "\n",
    "from models.TinyNerf import TinyNerf\n",
    "from utils.TrainerTinyNerf import TrainerTinyNerf\n",
    "import imageio.v3 as iio\n",
    "\n",
    "test_img = \"nerf_synthetic/lego/val/r_0.png\"\n",
    "test_img = iio.imread(test_img)[:,:,:3]\n",
    "test_img = torch.tensor(test_img)\n",
    "test_img = torch.nn.functional.interpolate(test_img[None,...].permute(\n",
    "            0, 3, 1, 2), (100, 100), mode='bilinear', align_corners=False).permute(0, 2, 3, 1)[0]\n",
    "test_img = test_img/255\n",
    "\n",
    "test_pose = torch.tensor([\n",
    "                [\n",
    "                    -0.963964581489563,\n",
    "                    -0.2611401677131653,\n",
    "                    0.0507759265601635,\n",
    "                    0.2046843022108078\n",
    "                ],\n",
    "                [\n",
    "                    0.26603081822395325,\n",
    "                    -0.9462433457374573,\n",
    "                    0.18398693203926086,\n",
    "                    0.7416750192642212\n",
    "                ],\n",
    "                [\n",
    "                    7.450580596923828e-09,\n",
    "                    0.1908649355173111,\n",
    "                    0.9816163182258606,\n",
    "                    3.957021951675415\n",
    "                ],\n",
    "                [\n",
    "                    0.0,\n",
    "                    0.0,\n",
    "                    0.0,\n",
    "                    1.0\n",
    "                ]\n",
    "            ])\n",
    "\n",
    "model = TinyNerf(config['model']['L_xyz'])\n",
    "trainer = TrainerTinyNerf(model, device, images, cameras, renderer, config['trainer'])\n",
    "trainer.train(test_img[None,...], test_pose[None,...], focal)"
   ]
  },
  {
   "cell_type": "code",
   "execution_count": null,
   "metadata": {},
   "outputs": [],
   "source": []
  }
 ],
 "metadata": {
  "kernelspec": {
   "display_name": "Python 3 (ipykernel)",
   "language": "python",
   "name": "python3"
  },
  "language_info": {
   "codemirror_mode": {
    "name": "ipython",
    "version": 3
   },
   "file_extension": ".py",
   "mimetype": "text/x-python",
   "name": "python",
   "nbconvert_exporter": "python",
   "pygments_lexer": "ipython3",
   "version": "3.10.11"
  }
 },
 "nbformat": 4,
 "nbformat_minor": 4
}
