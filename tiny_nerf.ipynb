{
 "cells": [
  {
   "cell_type": "code",
   "execution_count": 29,
   "metadata": {},
   "outputs": [
    {
     "name": "stdout",
     "output_type": "stream",
     "text": [
      "The autoreload extension is already loaded. To reload it, use:\n",
      "  %reload_ext autoreload\n"
     ]
    }
   ],
   "source": [
    "%load_ext autoreload\n",
    "%autoreload 2\n",
    "\n",
    "import yaml\n",
    "import torch\n",
    "import matplotlib.pyplot as plt"
   ]
  },
  {
   "cell_type": "code",
   "execution_count": 30,
   "metadata": {},
   "outputs": [],
   "source": [
    "config_file = './configs/lego_tiny.yaml'\n",
    "with open(config_file, 'r') as file:\n",
    "    config = yaml.safe_load(file)"
   ]
  },
  {
   "cell_type": "code",
   "execution_count": 31,
   "metadata": {},
   "outputs": [],
   "source": [
    "from utils.DataLoaderLego import DataLoaderLego\n",
    "\n",
    "data_loader = DataLoaderLego(config['data'])\n",
    "\n",
    "images, poses, focal = data_loader.getDataset('train')"
   ]
  },
  {
   "cell_type": "code",
   "execution_count": 32,
   "metadata": {},
   "outputs": [],
   "source": [
    "device = 'cpu'\n",
    "if torch.cuda.is_available():\n",
    "    device = torch.cuda.current_device()"
   ]
  },
  {
   "cell_type": "code",
   "execution_count": 33,
   "metadata": {},
   "outputs": [],
   "source": [
    "from utils.Camera import Camera\n",
    "\n",
    "cameras = []\n",
    "H, W = images[0].shape[:2]\n",
    "\n",
    "for i in range(images.shape[0]):\n",
    "    cameras.append(Camera(H, W, poses[i], focal, device))\n"
   ]
  },
  {
   "cell_type": "code",
   "execution_count": 34,
   "metadata": {},
   "outputs": [],
   "source": [
    "from utils.Renderer import Renderer\n",
    "\n",
    "renderer = Renderer(config['renderer'])"
   ]
  },
  {
   "cell_type": "code",
   "execution_count": 35,
   "metadata": {},
   "outputs": [
    {
     "name": "stdout",
     "output_type": "stream",
     "text": [
      "The autoreload extension is already loaded. To reload it, use:\n",
      "  %reload_ext autoreload\n",
      "6\n"
     ]
    },
    {
     "ename": "KeyboardInterrupt",
     "evalue": "",
     "output_type": "error",
     "traceback": [
      "\u001b[1;31m---------------------------------------------------------------------------\u001b[0m",
      "\u001b[1;31mKeyboardInterrupt\u001b[0m                         Traceback (most recent call last)",
      "Cell \u001b[1;32mIn[35], line 45\u001b[0m\n\u001b[0;32m     43\u001b[0m model \u001b[39m=\u001b[39m TinyNerf(config[\u001b[39m'\u001b[39m\u001b[39mmodel\u001b[39m\u001b[39m'\u001b[39m][\u001b[39m'\u001b[39m\u001b[39mL_xyz\u001b[39m\u001b[39m'\u001b[39m])\n\u001b[0;32m     44\u001b[0m trainer \u001b[39m=\u001b[39m TrainerTinyNerf(model, device, images, cameras, renderer, config[\u001b[39m'\u001b[39m\u001b[39mtrainer\u001b[39m\u001b[39m'\u001b[39m])\n\u001b[1;32m---> 45\u001b[0m trainer\u001b[39m.\u001b[39;49mtrain(test_img[\u001b[39mNone\u001b[39;49;00m,\u001b[39m.\u001b[39;49m\u001b[39m.\u001b[39;49m\u001b[39m.\u001b[39;49m], test_pose[\u001b[39mNone\u001b[39;49;00m,\u001b[39m.\u001b[39;49m\u001b[39m.\u001b[39;49m\u001b[39m.\u001b[39;49m], focal)\n",
      "File \u001b[1;32mc:\\Users\\Igor\\Downloads\\NeRF\\PSIML2023\\utils\\TrainerTinyNerf.py:35\u001b[0m, in \u001b[0;36mTrainerTinyNerf.train\u001b[1;34m(self, test_img, test_pose, focal)\u001b[0m\n\u001b[0;32m     31\u001b[0m ray_origins, ray_dirs \u001b[39m=\u001b[39m \u001b[39mself\u001b[39m\u001b[39m.\u001b[39mcameras[rnd_img]\u001b[39m.\u001b[39mgetRays()\n\u001b[0;32m     33\u001b[0m points, dists \u001b[39m=\u001b[39m \u001b[39mself\u001b[39m\u001b[39m.\u001b[39mrenderer\u001b[39m.\u001b[39mgetSparsePoints(ray_origins, ray_dirs)\n\u001b[1;32m---> 35\u001b[0m rgb \u001b[39m=\u001b[39m \u001b[39mself\u001b[39;49m\u001b[39m.\u001b[39;49mrenderer\u001b[39m.\u001b[39;49mgetPixelValues(\u001b[39mself\u001b[39;49m\u001b[39m.\u001b[39;49mmodel, points, dists)\n\u001b[0;32m     36\u001b[0m loss \u001b[39m=\u001b[39m criterion(rgb, img\u001b[39m.\u001b[39mreshape((\u001b[39m-\u001b[39m\u001b[39m1\u001b[39m,\u001b[39m3\u001b[39m))\u001b[39m.\u001b[39mto(rgb\u001b[39m.\u001b[39mdevice))\n\u001b[0;32m     38\u001b[0m loss\u001b[39m.\u001b[39mbackward()\n",
      "File \u001b[1;32mc:\\Users\\Igor\\Downloads\\NeRF\\PSIML2023\\utils\\Renderer.py:90\u001b[0m, in \u001b[0;36mRenderer.getPixelValues\u001b[1;34m(self, model, points, dists, return_weights)\u001b[0m\n\u001b[0;32m     87\u001b[0m rgb \u001b[39m=\u001b[39m torch\u001b[39m.\u001b[39mzeros(points\u001b[39m.\u001b[39mshape[:\u001b[39m-\u001b[39m\u001b[39m1\u001b[39m]\u001b[39m+\u001b[39m(\u001b[39m3\u001b[39m,), device \u001b[39m=\u001b[39m device)\n\u001b[0;32m     88\u001b[0m sigma \u001b[39m=\u001b[39m torch\u001b[39m.\u001b[39mzeros(points\u001b[39m.\u001b[39mshape[:\u001b[39m-\u001b[39m\u001b[39m1\u001b[39m], device \u001b[39m=\u001b[39m device)\n\u001b[1;32m---> 90\u001b[0m rgb, sigma \u001b[39m=\u001b[39m model(points)\n\u001b[0;32m     92\u001b[0m inf_distance \u001b[39m=\u001b[39m \u001b[39m1e10\u001b[39m\n\u001b[0;32m     93\u001b[0m delta \u001b[39m=\u001b[39m torch\u001b[39m.\u001b[39mcat([dists[\u001b[39m.\u001b[39m\u001b[39m.\u001b[39m\u001b[39m.\u001b[39m,\u001b[39m1\u001b[39m:]\u001b[39m-\u001b[39mdists[\u001b[39m.\u001b[39m\u001b[39m.\u001b[39m\u001b[39m.\u001b[39m,:\u001b[39m-\u001b[39m\u001b[39m1\u001b[39m], inf_distance\u001b[39m*\u001b[39mtorch\u001b[39m.\u001b[39mones(dists\u001b[39m.\u001b[39mshape[:\u001b[39m-\u001b[39m\u001b[39m1\u001b[39m] \u001b[39m+\u001b[39m (\u001b[39m1\u001b[39m,))\u001b[39m.\u001b[39mto(device)], dim\u001b[39m=\u001b[39m\u001b[39m-\u001b[39m\u001b[39m1\u001b[39m)\n",
      "File \u001b[1;32m~\\AppData\\Local\\Packages\\PythonSoftwareFoundation.Python.3.10_qbz5n2kfra8p0\\LocalCache\\local-packages\\Python310\\site-packages\\torch\\nn\\modules\\module.py:1501\u001b[0m, in \u001b[0;36mModule._call_impl\u001b[1;34m(self, *args, **kwargs)\u001b[0m\n\u001b[0;32m   1496\u001b[0m \u001b[39m# If we don't have any hooks, we want to skip the rest of the logic in\u001b[39;00m\n\u001b[0;32m   1497\u001b[0m \u001b[39m# this function, and just call forward.\u001b[39;00m\n\u001b[0;32m   1498\u001b[0m \u001b[39mif\u001b[39;00m \u001b[39mnot\u001b[39;00m (\u001b[39mself\u001b[39m\u001b[39m.\u001b[39m_backward_hooks \u001b[39mor\u001b[39;00m \u001b[39mself\u001b[39m\u001b[39m.\u001b[39m_backward_pre_hooks \u001b[39mor\u001b[39;00m \u001b[39mself\u001b[39m\u001b[39m.\u001b[39m_forward_hooks \u001b[39mor\u001b[39;00m \u001b[39mself\u001b[39m\u001b[39m.\u001b[39m_forward_pre_hooks\n\u001b[0;32m   1499\u001b[0m         \u001b[39mor\u001b[39;00m _global_backward_pre_hooks \u001b[39mor\u001b[39;00m _global_backward_hooks\n\u001b[0;32m   1500\u001b[0m         \u001b[39mor\u001b[39;00m _global_forward_hooks \u001b[39mor\u001b[39;00m _global_forward_pre_hooks):\n\u001b[1;32m-> 1501\u001b[0m     \u001b[39mreturn\u001b[39;00m forward_call(\u001b[39m*\u001b[39margs, \u001b[39m*\u001b[39m\u001b[39m*\u001b[39mkwargs)\n\u001b[0;32m   1502\u001b[0m \u001b[39m# Do not call functions when jit is used\u001b[39;00m\n\u001b[0;32m   1503\u001b[0m full_backward_hooks, non_full_backward_hooks \u001b[39m=\u001b[39m [], []\n",
      "File \u001b[1;32mc:\\Users\\Igor\\Downloads\\NeRF\\PSIML2023\\models\\TinyNerf.py:22\u001b[0m, in \u001b[0;36mTinyNerf.forward\u001b[1;34m(self, x)\u001b[0m\n\u001b[0;32m     20\u001b[0m     y \u001b[39m=\u001b[39m torch\u001b[39m.\u001b[39mnn\u001b[39m.\u001b[39mfunctional\u001b[39m.\u001b[39mrelu(\u001b[39mself\u001b[39m\u001b[39m.\u001b[39mfc2[i](y))\n\u001b[0;32m     21\u001b[0m y \u001b[39m=\u001b[39m torch\u001b[39m.\u001b[39mcat([y, x], dim\u001b[39m=\u001b[39m\u001b[39m-\u001b[39m\u001b[39m1\u001b[39m)\n\u001b[1;32m---> 22\u001b[0m y \u001b[39m=\u001b[39m torch\u001b[39m.\u001b[39;49mnn\u001b[39m.\u001b[39;49mfunctional\u001b[39m.\u001b[39;49mrelu(\u001b[39mself\u001b[39;49m\u001b[39m.\u001b[39;49mresidual(y))\n\u001b[0;32m     23\u001b[0m \u001b[39mfor\u001b[39;00m i \u001b[39min\u001b[39;00m \u001b[39mrange\u001b[39m(\u001b[39mlen\u001b[39m(\u001b[39mself\u001b[39m\u001b[39m.\u001b[39mfc3)):\n\u001b[0;32m     24\u001b[0m     y \u001b[39m=\u001b[39m torch\u001b[39m.\u001b[39mnn\u001b[39m.\u001b[39mfunctional\u001b[39m.\u001b[39mrelu(\u001b[39mself\u001b[39m\u001b[39m.\u001b[39mfc3[i](y))\n",
      "\u001b[1;31mKeyboardInterrupt\u001b[0m: "
     ]
    }
   ],
   "source": [
    "%load_ext autoreload\n",
    "%autoreload 2\n",
    "\n",
    "\n",
    "from models.TinyNerf import TinyNerf\n",
    "from utils.TrainerTinyNerf import TrainerTinyNerf\n",
    "import imageio.v3 as iio\n",
    "\n",
    "test_img = \"nerf_synthetic/lego/val/r_0.png\"\n",
    "test_img = iio.imread(test_img)[:,:,:3]\n",
    "test_img = torch.tensor(test_img)\n",
    "test_img = torch.nn.functional.interpolate(test_img[None,...].permute(\n",
    "            0, 3, 1, 2), (100, 100), mode='bilinear', align_corners=False).permute(0, 2, 3, 1)[0]\n",
    "test_img = test_img/255\n",
    "\n",
    "test_pose = torch.tensor([\n",
    "                [\n",
    "                    -0.963964581489563,\n",
    "                    -0.2611401677131653,\n",
    "                    0.0507759265601635,\n",
    "                    0.2046843022108078\n",
    "                ],\n",
    "                [\n",
    "                    0.26603081822395325,\n",
    "                    -0.9462433457374573,\n",
    "                    0.18398693203926086,\n",
    "                    0.7416750192642212\n",
    "                ],\n",
    "                [\n",
    "                    7.450580596923828e-09,\n",
    "                    0.1908649355173111,\n",
    "                    0.9816163182258606,\n",
    "                    3.957021951675415\n",
    "                ],\n",
    "                [\n",
    "                    0.0,\n",
    "                    0.0,\n",
    "                    0.0,\n",
    "                    1.0\n",
    "                ]\n",
    "            ])\n",
    "\n",
    "model = TinyNerf(config['model']['L_xyz'])\n",
    "trainer = TrainerTinyNerf(model, device, images, cameras, renderer, config['trainer'])\n",
    "trainer.train(test_img[None,...], test_pose[None,...], focal)"
   ]
  },
  {
   "cell_type": "code",
   "execution_count": null,
   "metadata": {},
   "outputs": [],
   "source": []
  }
 ],
 "metadata": {
  "kernelspec": {
   "display_name": "Python 3 (ipykernel)",
   "language": "python",
   "name": "python3"
  },
  "language_info": {
   "codemirror_mode": {
    "name": "ipython",
    "version": 3
   },
   "file_extension": ".py",
   "mimetype": "text/x-python",
   "name": "python",
   "nbconvert_exporter": "python",
   "pygments_lexer": "ipython3",
   "version": "3.10.11"
  }
 },
 "nbformat": 4,
 "nbformat_minor": 4
}
